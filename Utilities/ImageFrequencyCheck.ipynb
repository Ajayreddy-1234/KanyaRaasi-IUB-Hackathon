{
 "cells": [
  {
   "cell_type": "code",
   "execution_count": 1,
   "metadata": {},
   "outputs": [
    {
     "name": "stdout",
     "output_type": "stream",
     "text": [
      "Class: combined_dataset, Frequency: 16\n",
      "Class: shoes, Frequency: 130\n",
      "Class: glass, Frequency: 87\n",
      "Class: metal, Frequency: 127\n",
      "Class: biological, Frequency: 125\n",
      "Class: paper, Frequency: 119\n",
      "Class: plastic, Frequency: 98\n",
      "Class: battery, Frequency: 145\n",
      "Class: cardboard, Frequency: 90\n",
      "Class: clothes, Frequency: 108\n",
      "Class: trash, Frequency: 113\n",
      "Files with \"combined_dataset\" class label:\n",
      "combined_130.txt\n",
      "combined_104.txt\n",
      "combined_41.txt\n",
      "combined_81.txt\n",
      "combined_34.txt\n",
      "combined_140.txt\n",
      "combined_122.txt\n",
      "combined_105.txt\n",
      "combined_31.txt\n",
      "combined_186.txt\n",
      "combined_110.txt\n",
      "combined_198.txt\n",
      "combined_1.txt\n",
      "combined_123.txt\n",
      "combined_90.txt\n",
      "combined_35.txt\n"
     ]
    }
   ],
   "source": [
    "import os\n",
    "from collections import defaultdict\n",
    "\n",
    "# Define the folder path containing the text files\n",
    "folder_path = './archive/combined_dataset'\n",
    "\n",
    "# Initialize a defaultdict to store the frequency of each class\n",
    "class_freq = defaultdict(int)\n",
    "files_combined_dataset = set()\n",
    "\n",
    "# Iterate through each file in the folder\n",
    "for filename in os.listdir(folder_path):\n",
    "    if filename.endswith('.txt'):\n",
    "        file_path = os.path.join(folder_path, filename)\n",
    "        \n",
    "        # Open the file and read its contents line by line\n",
    "        with open(file_path, 'r') as file:\n",
    "            for line in file:\n",
    "                # Split each line by spaces to extract the class label\n",
    "                class_label = line.split()[0]\n",
    "                # Update the frequency count for the class label\n",
    "                class_freq[class_label] += 1\n",
    "                # Check if the class label is \"combined_dataset\"\n",
    "                if class_label == \"combined_dataset\":\n",
    "                    files_combined_dataset.add(filename)\n",
    "\n",
    "# Print the frequency of each class\n",
    "for class_label, frequency in class_freq.items():\n",
    "    print(f'Class: {class_label}, Frequency: {frequency}')\n",
    "\n",
    "# Print the files containing the \"combined_dataset\" class label line by line\n",
    "print('Files with \"combined_dataset\" class label:')\n",
    "for filename in files_combined_dataset:\n",
    "    print(filename)"
   ]
  }
 ],
 "metadata": {
  "kernelspec": {
   "display_name": "Python 3",
   "language": "python",
   "name": "python3"
  },
  "language_info": {
   "codemirror_mode": {
    "name": "ipython",
    "version": 3
   },
   "file_extension": ".py",
   "mimetype": "text/x-python",
   "name": "python",
   "nbconvert_exporter": "python",
   "pygments_lexer": "ipython3",
   "version": "3.11.4"
  }
 },
 "nbformat": 4,
 "nbformat_minor": 2
}
